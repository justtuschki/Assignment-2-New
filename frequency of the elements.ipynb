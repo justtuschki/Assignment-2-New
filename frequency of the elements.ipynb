{
 "cells": [
  {
   "cell_type": "code",
   "execution_count": 1,
   "metadata": {},
   "outputs": [
    {
     "name": "stdout",
     "output_type": "stream",
     "text": [
      "---------------------\n",
      " Element | Frequency\n",
      "---------------------\n",
      "    1    |    2\n",
      "    2    |    4\n",
      "    8    |    1\n",
      "    3    |    1\n",
      "    5    |    1\n",
      "---------------------\n"
     ]
    }
   ],
   "source": [
    "#Initialize array     \n",
    "arr = [1, 2, 8, 3, 2, 2, 2, 5, 1];     \n",
    "#Array fr will store frequencies of element    \n",
    "fr = [None] * len(arr);    \n",
    "visited = -1;    \n",
    "     \n",
    "for i in range(0, len(arr)):    \n",
    "    count = 1;    \n",
    "    for j in range(i+1, len(arr)):    \n",
    "        if(arr[i] == arr[j]):    \n",
    "            count = count + 1;    \n",
    "            #To avoid counting same element again    \n",
    "            fr[j] = visited;    \n",
    "                \n",
    "    if(fr[i] != visited):    \n",
    "        fr[i] = count;    \n",
    "     \n",
    "#Displays the frequency of each element present in array    \n",
    "print(\"---------------------\");    \n",
    "print(\" Element | Frequency\");    \n",
    "print(\"---------------------\");    \n",
    "for i in range(0, len(fr)):    \n",
    "    if(fr[i] != visited):    \n",
    "        print(\"    \" + str(arr[i]) + \"    |    \" + str(fr[i]));    \n",
    "print(\"---------------------\");    "
   ]
  },
  {
   "cell_type": "code",
   "execution_count": null,
   "metadata": {},
   "outputs": [],
   "source": []
  }
 ],
 "metadata": {
  "kernelspec": {
   "display_name": "Python 3",
   "language": "python",
   "name": "python3"
  },
  "language_info": {
   "codemirror_mode": {
    "name": "ipython",
    "version": 3
   },
   "file_extension": ".py",
   "mimetype": "text/x-python",
   "name": "python",
   "nbconvert_exporter": "python",
   "pygments_lexer": "ipython3",
   "version": "3.8.5"
  }
 },
 "nbformat": 4,
 "nbformat_minor": 4
}
